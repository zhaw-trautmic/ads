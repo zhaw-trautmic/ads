{
 "cells": [
  {
   "attachments": {},
   "cell_type": "markdown",
   "metadata": {},
   "source": [
    "## 3. Database"
   ]
  },
  {
   "attachments": {},
   "cell_type": "markdown",
   "metadata": {},
   "source": [
    "### Variante mit Umwandlung von data"
   ]
  },
  {
   "cell_type": "code",
   "execution_count": null,
   "metadata": {},
   "outputs": [],
   "source": [
    "import psycopg2\n",
    "\n",
    "# Datenbankverbindung herstellen\n",
    "conn = psycopg2.connect(\"host=db dbname=postgres user=admin password=secret\")\n",
    "\n",
    "# Cursor-Objekt erstellen\n",
    "cur = conn.cursor()\n",
    "\n",
    "# Tabelle erstellen\n",
    "cur.execute('''\n",
    "    CREATE TABLE aktienkurse (\n",
    "        index SERIAL PRIMARY KEY,\n",
    "        datum DATE,\n",
    "        open DECIMAL,\n",
    "        high DECIMAL,\n",
    "        low DECIMAL,\n",
    "        close DECIMAL,\n",
    "        adj_close DECIMAL,\n",
    "        volume INTEGER\n",
    "    );\n",
    "''')\n",
    "\n",
    "# Daten in die Tabelle einfügen\n",
    "for row in data.itertuples(index=False):\n",
    "    cur.execute('''\n",
    "        INSERT INTO aktienkurse (datum, open, high, low, close, adj_close, volume)\n",
    "        VALUES (%s, %s, %s, %s, %s, %s, %s);\n",
    "    ''', row)\n",
    "\n",
    "# Neue Spalte 'positive' zur Tabelle 'aktienkurse' hinzufügen\n",
    "cur.execute(\"ALTER TABLE aktienkurse ADD COLUMN positive INTEGER DEFAULT 0;\")\n",
    "\n",
    "# Änderungen speichern\n",
    "conn.commit()\n",
    "\n",
    "# Datenbankverbindung schließen\n",
    "cur.close()\n",
    "conn.close()\n",
    "\n",
    "cur.execute(\"UPDATE aktienkurse SET positive = CASE WHEN close >= open THEN 1 ELSE 0 END;\")\n",
    "\n",
    "# Änderungen speichern\n",
    "conn.commit()\n",
    "\n",
    "# Datenbankverbindung schließen\n",
    "cur.close()\n",
    "conn.close()"
   ]
  },
  {
   "attachments": {},
   "cell_type": "markdown",
   "metadata": {},
   "source": [
    "### Variante direkt mit data"
   ]
  },
  {
   "cell_type": "code",
   "execution_count": null,
   "metadata": {},
   "outputs": [],
   "source": [
    "# Libraries\n",
    "import os\n",
    "import fnmatch\n",
    "import tempfile\n",
    "import psycopg2\n",
    "import pandas as pd\n",
    "from sqlalchemy import create_engine\n",
    "\n",
    "os.environ['MPLCONFIGDIR'] = \"/home/jovyan\"\n",
    "import matplotlib.pyplot as plt\n",
    "\n",
    "# Settings\n",
    "import warnings\n",
    "warnings.filterwarnings(\"ignore\")"
   ]
  },
  {
   "cell_type": "code",
   "execution_count": null,
   "metadata": {},
   "outputs": [],
   "source": [
    "# Connect DB\n",
    "conn = psycopg2.connect(\"host=db dbname=postgres user=admin password=secret\")"
   ]
  },
  {
   "cell_type": "code",
   "execution_count": null,
   "metadata": {},
   "outputs": [],
   "source": [
    "# Insert data to appl_prices\n",
    "engine = create_engine('postgresql://admin:secret@db:5432/postgres')\n",
    "data.to_sql('appl_prices', engine, if_exists='replace')\n",
    "cur = conn.cursor()\n",
    "\n",
    "# Spalte positive hinzufügen\n",
    "cur.execute(\"ALTER TABLE appl_prices ADD COLUMN Positive INTEGER DEFAULT 0;\")\n",
    "\n",
    "# Änderungen speichern\n",
    "conn.commit()\n",
    "\n",
    "# Datenbankverbindung schließen\n",
    "cur.close()\n",
    "conn.close()\n",
    "\n",
    "cur.execute(\"\"\"UPDATE appl_prices SET positive = CASE WHEN \"Close\" >= \"Open\" THEN 1 ELSE 0 END;\"\"\")\n"
   ]
  }
 ],
 "metadata": {
  "kernelspec": {
   "display_name": "adsenv",
   "language": "python",
   "name": "python3"
  },
  "language_info": {
   "codemirror_mode": {
    "name": "ipython",
    "version": 3
   },
   "file_extension": ".py",
   "mimetype": "text/x-python",
   "name": "python",
   "nbconvert_exporter": "python",
   "pygments_lexer": "ipython3",
   "version": "3.10.10"
  },
  "orig_nbformat": 4
 },
 "nbformat": 4,
 "nbformat_minor": 2
}
