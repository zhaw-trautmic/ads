{
 "cells": [
  {
   "cell_type": "markdown",
   "id": "frank-setup",
   "metadata": {},
   "source": [
    "# Web Scraping with Python and Beautifulsoup"
   ]
  },
  {
   "cell_type": "markdown",
   "id": "competitive-cameroon",
   "metadata": {},
   "source": [
    "## Libraries and settings"
   ]
  },
  {
   "cell_type": "markdown",
   "id": "structural-produce",
   "metadata": {},
   "source": [
    "## Get the webpage URL and check for errors"
   ]
  },
  {
   "cell_type": "code",
   "execution_count": 27,
   "id": "floating-glucose",
   "metadata": {},
   "outputs": [
    {
     "name": "stdout",
     "output_type": "stream",
     "text": [
      "response.ok : True , response.status_code : 200\n",
      "Preview of response.text :  <!doctype html><html data-color-theme=\"light\" id=\"atomic\" class=\"NoJs chrome desktop failsafe\" lang=\"en-US\"><head prefix=\"og: https://ogp.me/ns#\"><script>window.performance && window.performance.mark && window.performance.mark('PageStart');</script><meta charset=\"utf-8\"><title>Latest Financial and Business News - Yahoo Finance</title><meta name=\"keywords\" content=\"401k, Business, Financial Information, Investing, Investor, Market News, Stock Research, Stock Valuation, business news, economy, fin\n"
     ]
    }
   ],
   "source": [
    "#get the URL using response variable\n",
    "my_url = \"https://finance.yahoo.com/news\"\n",
    "response = requests.get(my_url)\n",
    "\n",
    "#Catching Exceptions\n",
    "print(\"response.ok : {} , response.status_code : {}\".format(response.ok , response.status_code))\n",
    "print(\"Preview of response.text : \", response.text[:500])"
   ]
  },
  {
   "cell_type": "markdown",
   "id": "stupid-daniel",
   "metadata": {},
   "source": [
    "## Create a function to retrieve HTML data of the webpage as a Beautiful Soup object"
   ]
  },
  {
   "cell_type": "code",
   "execution_count": 28,
   "id": "indoor-washer",
   "metadata": {
    "scrolled": true
   },
   "outputs": [
    {
     "name": "stdout",
     "output_type": "stream",
     "text": [
      "C:\\Users\\Trautmann\\OneDrive - ZHAW\\Master\\FS23 - ADS\\ADS Project\\Scraping Yahoo Finance\n"
     ]
    }
   ],
   "source": [
    "#import modules\n",
    "import os\n",
    "import requests\n",
    "import pandas as pd\n",
    "from bs4 import BeautifulSoup\n",
    "\n",
    "# Get current working directory\n",
    "print(os.getcwd())"
   ]
  },
  {
   "cell_type": "code",
   "execution_count": 29,
   "id": "bridal-isolation",
   "metadata": {},
   "outputs": [],
   "source": [
    "#utility function to download a webpage and return a beautiful soup doc\n",
    "def get_page(url):\n",
    "    response = requests.get(url)\n",
    "    if not response.ok:\n",
    "        print('Status code:', response.status_code)\n",
    "        raise Exception('Failed to load page {}'.format(url))\n",
    "    page_content = response.text\n",
    "    doc = BeautifulSoup(page_content, 'html.parser')\n",
    "    return doc\n",
    "\n",
    "#function call\n",
    "doc = get_page(my_url)"
   ]
  },
  {
   "cell_type": "markdown",
   "id": "valid-radical",
   "metadata": {},
   "source": [
    "## Extract and store the information"
   ]
  },
  {
   "cell_type": "code",
   "execution_count": 30,
   "id": "tribal-animal",
   "metadata": {},
   "outputs": [
    {
     "name": "stdout",
     "output_type": "stream",
     "text": [
      "10\n",
      "Headline 1:‘We’re pretty well positioned for summer,’  Constellation Brands CEO says\n",
      "Headline 2:Egypt Inflation Quickens Near Peak Reached After 2016 Crisis\n",
      "Headline 3:Capital One Financial stock falls as Walmart sues to end credit card deal\n",
      "Headline 4:UPDATE 1-TSMC talking to US about CHIPS Act 'guidance' amid subsidy concerns\n",
      "Headline 5:Entrepreneurs ‘taking advantage’ of economic disruptions, economist says\n",
      "Headline 6:Oil Swings With Macro Markets While Awaiting Supply Challenges\n",
      "Headline 7:Markets mixed as traders prepare for earnings season\n",
      "Headline 8:U.S. natgas futures jump nearly 9% on short covering\n",
      "Headline 9:Nike: ‘The demand is very much there,’ retail analyst says\n",
      "Headline 10:Scotiabank Taps State Street’s Aristeguieta to Run International Unit\n"
     ]
    }
   ],
   "source": [
    "#appropritae tags common to news-headlines to filter out the necessary information.\n",
    "a_tags = doc.find_all('a', {'class': \"js-content-viewer\"})\n",
    "print(len(a_tags))\n",
    "\n",
    "#print(a_tags[1])\n",
    "news_list = []\n",
    "\n",
    "#print top 10 Headlines\n",
    "for i in range(1,len(a_tags)+1):\n",
    "    news = a_tags[i-1].text\n",
    "    news_list.append(news)\n",
    "    print(\"Headline \"+str(i)+ \":\" + news)\n",
    "    news_df = pd.DataFrame(news_list)\n",
    "    news_df.to_csv('Market_News')"
   ]
  },
  {
   "cell_type": "markdown",
   "id": "562a0720",
   "metadata": {},
   "source": [
    "### Jupyter notebook --footer info-- (please always provide this at the end of each notebook)"
   ]
  },
  {
   "cell_type": "code",
   "execution_count": 22,
   "id": "269243db",
   "metadata": {},
   "outputs": [
    {
     "name": "stdout",
     "output_type": "stream",
     "text": [
      "-----------------------------------\n",
      "NT\n",
      "Windows | 10\n",
      "Datetime: 2023-04-10 16:05:41\n",
      "Python Version: 3.10.10\n",
      "-----------------------------------\n"
     ]
    }
   ],
   "source": [
    "import os\n",
    "import platform\n",
    "import socket\n",
    "from platform import python_version\n",
    "from datetime import datetime\n",
    "\n",
    "print('-----------------------------------')\n",
    "print(os.name.upper())\n",
    "print(platform.system(), '|', platform.release())\n",
    "print('Datetime:', datetime.now().strftime(\"%Y-%m-%d %H:%M:%S\"))\n",
    "print('Python Version:', python_version())\n",
    "print('-----------------------------------')"
   ]
  },
  {
   "cell_type": "code",
   "execution_count": null,
   "id": "86cac042",
   "metadata": {},
   "outputs": [],
   "source": []
  }
 ],
 "metadata": {
  "kernelspec": {
   "display_name": "Python 3 (ipykernel)",
   "language": "python",
   "name": "python3"
  },
  "language_info": {
   "codemirror_mode": {
    "name": "ipython",
    "version": 3
   },
   "file_extension": ".py",
   "mimetype": "text/x-python",
   "name": "python",
   "nbconvert_exporter": "python",
   "pygments_lexer": "ipython3",
   "version": "3.10.10"
  },
  "vscode": {
   "interpreter": {
    "hash": "18632da57c1a416bf8be4aa27ba4ca7c1f66541805f18b0825a162dab4e44f29"
   }
  }
 },
 "nbformat": 4,
 "nbformat_minor": 5
}
